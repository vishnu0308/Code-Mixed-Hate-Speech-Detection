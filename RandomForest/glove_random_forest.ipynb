{
 "cells": [
  {
   "cell_type": "code",
   "execution_count": 2,
   "source": [
    "import os\r\n",
    "import re\r\n",
    "import pandas as pd\r\n",
    "import regex\r\n",
    "from library import *\r\n",
    "from sklearn.ensemble import RandomForestClassifier\r\n",
    "from sklearn.metrics import accuracy_score\r\n",
    "from sklearn.metrics import confusion_matrix\r\n",
    "import numpy as np\r\n",
    "import seaborn as sns\r\n",
    "from sklearn.feature_extraction.text import TfidfVectorizer\r\n",
    "from sklearn import preprocessing\r\n",
    "import torch"
   ],
   "outputs": [],
   "metadata": {}
  },
  {
   "cell_type": "code",
   "execution_count": 21,
   "source": [
    "import numpy as np\r\n",
    "from gensim.models import KeyedVectors\r\n",
    "import dill\r\n",
    "# Define the path to the pre-trained GloVe model file\r\n",
    "glove_file = 'glove.twitter.27B.100d.txt'\r\n",
    "\r\n",
    "# Define the format of the pre-trained GloVe model file\r\n",
    "def read_glove_file(glove_file):\r\n",
    "    with open(glove_file, 'r', encoding='utf-8') as f:\r\n",
    "        lines = f.readlines()\r\n",
    "    word_to_vec = {}\r\n",
    "    for line in lines:\r\n",
    "        line = line.strip().split()\r\n",
    "        word = line[0]\r\n",
    "        vec = np.array([float(val) for val in line[1:]])\r\n",
    "        word_to_vec[word] = vec\r\n",
    "    return word_to_vec\r\n",
    "\r\n",
    "# Load the pre-trained GloVe model\r\n",
    "word_to_vec_map = read_glove_file(glove_file)\r\n",
    "\r\n",
    "def get_word_embedding(sentence):\r\n",
    "    # Tokenize the input string into words\r\n",
    "    words = sentence.split()\r\n",
    "\r\n",
    "    # Initialize an empty array to store the word embeddings\r\n",
    "    embeddings = []\r\n",
    "\r\n",
    "    # Look up the word embeddings for each word in the pre-trained GloVe model\r\n",
    "    for word in words:\r\n",
    "        try:\r\n",
    "            embedding = word_to_vec_map[word.lower()]\r\n",
    "            embeddings.append(embedding)\r\n",
    "        except KeyError:\r\n",
    "            # If the word is not in the vocabulary, skip it\r\n",
    "            continue\r\n",
    "\r\n",
    "    # Combine the word embeddings into a single vector\r\n",
    "    if len(embeddings) > 0:\r\n",
    "        sentence_embedding = np.mean(embeddings, axis=0)\r\n",
    "    else:\r\n",
    "        sentence_embedding = np.zeros(100)\r\n",
    "\r\n",
    "    return sentence_embedding\r\n",
    "\r\n"
   ],
   "outputs": [],
   "metadata": {}
  },
  {
   "cell_type": "code",
   "execution_count": 22,
   "source": [
    "def glove(messages):\n",
    "    embeddings = []\n",
    "    for msg in messages:\n",
    "        embeddings.append(get_word_embedding(msg))\n",
    "    return embeddings"
   ],
   "outputs": [],
   "metadata": {}
  },
  {
   "cell_type": "code",
   "execution_count": 3,
   "source": [
    "def trac1_dataset_preprocess():\n",
    "    df1 = load_dataset(\"agr_hi_train.csv\")\n",
    "    df2 = load_dataset(\"agr_en_train.csv\")\n",
    "    df = pd.concat([df1,df2])\n",
    "    df = preprocess_text(df)\n",
    "    df[\"message\"].fillna('',inplace=True)\n",
    "    df1 = load_dataset(\"agr_hi_dev.csv\")\n",
    "    df2 = load_dataset(\"agr_en_dev.csv\")\n",
    "    val_df = pd.concat([df1,df2])\n",
    "    val_df = preprocess_text(val_df)\n",
    "    y_train = df[\"class\"]\n",
    "    y_test = val_df[\"class\"]\n",
    "    x_train = df[\"message\"]\n",
    "    x_test = val_df[\"message\"]\n",
    "    return x_train,x_test,y_train,y_test\n",
    "x_train,x_test,y_train,y_test = trac1_dataset_preprocess()"
   ],
   "outputs": [],
   "metadata": {}
  },
  {
   "cell_type": "code",
   "execution_count": 25,
   "source": [
    "xtrain_glove = glove(x_train)"
   ],
   "outputs": [],
   "metadata": {}
  },
  {
   "cell_type": "code",
   "execution_count": 28,
   "source": [
    "xtest_glove = glove(x_test)"
   ],
   "outputs": [],
   "metadata": {}
  },
  {
   "cell_type": "code",
   "execution_count": 29,
   "source": [
    "dill.dump_session('glove_embeddings.db')"
   ],
   "outputs": [],
   "metadata": {}
  },
  {
   "cell_type": "code",
   "execution_count": 31,
   "source": [
    "def embedding_evaluation(x_train,x_test,y_train,y_test,embedding_done = False):\n",
    "    tfidf_vectorizer = TfidfVectorizer(analyzer=custom_analyzer)\n",
    "    if not embedding_done:\n",
    "        tfidf_vectorizer.fit(x_train)\n",
    "        x_train = tfidf_vectorizer.transform(x_train)\n",
    "    #labels encoding\n",
    "    labels = y_train\n",
    "    le = preprocessing.LabelEncoder()\n",
    "    labels_encoded=le.fit_transform(labels)\n",
    "    \n",
    "    #train with random forest\n",
    "    clf = RandomForestClassifier(n_estimators=750, max_depth=30, random_state=42)\n",
    "    clf.fit(x_train, labels_encoded)\n",
    "    if not embedding_done:\n",
    "        x_test = tfidf_vectorizer.transform(x_test)\n",
    "    #test labels encode\n",
    "    labels = y_test\n",
    "    labels_encoded=le.transform(labels)\n",
    "    le_name_mapping = dict(zip(le.classes_, le.transform(le.classes_)))\n",
    "    print(le_name_mapping)\n",
    "    \n",
    "    y_pred = clf.predict(x_test)\n",
    "\n",
    "    accuracy = accuracy_score(labels_encoded, y_pred)\n",
    "    print(\"accuracy:   %0.3f\" % accuracy)\n",
    "    print(\"confusion matrix:\")\n",
    "    cf_matrix = confusion_matrix(labels_encoded, y_pred)\n",
    "    sns.heatmap(cf_matrix/np.sum(cf_matrix), annot=True, fmt='.2%', cmap='Blues')"
   ],
   "outputs": [],
   "metadata": {}
  },
  {
   "cell_type": "code",
   "execution_count": 33,
   "source": [
    "embedding_evaluation(xtrain_glove,xtest_glove,y_train,y_test,embedding_done = True)"
   ],
   "outputs": [
    {
     "output_type": "stream",
     "name": "stdout",
     "text": [
      "{'CAG': 0, 'NAG': 1, 'OAG': 2}\n",
      "accuracy:   0.552\n",
      "confusion matrix:\n"
     ]
    },
    {
     "output_type": "display_data",
     "data": {
      "text/plain": [
       "<Figure size 432x288 with 2 Axes>"
      ],
      "image/png": "[encoded data removed]"
     },
     "metadata": {
      "needs_background": "light"
     }
    }
   ],
   "metadata": {}
  }
 ],
 "metadata": {
  "kernelspec": {
   "display_name": "Python 3",
   "language": "python",
   "name": "python3"
  },
  "language_info": {
   "codemirror_mode": {
    "name": "ipython",
    "version": 3
   },
   "file_extension": ".py",
   "mimetype": "text/x-python",
   "name": "python",
   "nbconvert_exporter": "python",
   "pygments_lexer": "ipython3",
   "version": "3.8.8"
  }
 },
 "nbformat": 4,
 "nbformat_minor": 5
}